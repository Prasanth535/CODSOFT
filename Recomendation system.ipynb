{
 "cells": [
  {
   "cell_type": "code",
   "execution_count": 2,
   "id": "06806f56-b5ce-4944-a249-a4bd7a93eb9f",
   "metadata": {},
   "outputs": [],
   "source": [
    "import numpy as np\n",
    "import pandas as pd\n",
    "import matplotlib.pyplot as plt\n",
    "plt.style.use(\"ggplot\")\n",
    "import sklearn\n",
    "from sklearn.decomposition import TruncatedSVD"
   ]
  },
  {
   "cell_type": "code",
   "execution_count": 4,
   "id": "2266a6ed-35f8-4b9e-bfbf-346edd09c34d",
   "metadata": {},
   "outputs": [
    {
     "data": {
      "text/html": [
       "<div>\n",
       "<style scoped>\n",
       "    .dataframe tbody tr th:only-of-type {\n",
       "        vertical-align: middle;\n",
       "    }\n",
       "\n",
       "    .dataframe tbody tr th {\n",
       "        vertical-align: top;\n",
       "    }\n",
       "\n",
       "    .dataframe thead th {\n",
       "        text-align: right;\n",
       "    }\n",
       "</style>\n",
       "<table border=\"1\" class=\"dataframe\">\n",
       "  <thead>\n",
       "    <tr style=\"text-align: right;\">\n",
       "      <th></th>\n",
       "      <th>UserId</th>\n",
       "      <th>ProductId</th>\n",
       "      <th>Rating</th>\n",
       "      <th>Timestamp</th>\n",
       "    </tr>\n",
       "  </thead>\n",
       "  <tbody>\n",
       "    <tr>\n",
       "      <th>0</th>\n",
       "      <td>A39HTATAQ9V7YF</td>\n",
       "      <td>0205616461</td>\n",
       "      <td>5.0</td>\n",
       "      <td>1369699200</td>\n",
       "    </tr>\n",
       "    <tr>\n",
       "      <th>1</th>\n",
       "      <td>A3JM6GV9MNOF9X</td>\n",
       "      <td>0558925278</td>\n",
       "      <td>3.0</td>\n",
       "      <td>1355443200</td>\n",
       "    </tr>\n",
       "    <tr>\n",
       "      <th>2</th>\n",
       "      <td>A1Z513UWSAAO0F</td>\n",
       "      <td>0558925278</td>\n",
       "      <td>5.0</td>\n",
       "      <td>1404691200</td>\n",
       "    </tr>\n",
       "    <tr>\n",
       "      <th>3</th>\n",
       "      <td>A1WMRR494NWEWV</td>\n",
       "      <td>0733001998</td>\n",
       "      <td>4.0</td>\n",
       "      <td>1382572800</td>\n",
       "    </tr>\n",
       "    <tr>\n",
       "      <th>4</th>\n",
       "      <td>A3IAAVS479H7M7</td>\n",
       "      <td>0737104473</td>\n",
       "      <td>1.0</td>\n",
       "      <td>1274227200</td>\n",
       "    </tr>\n",
       "  </tbody>\n",
       "</table>\n",
       "</div>"
      ],
      "text/plain": [
       "           UserId   ProductId  Rating   Timestamp\n",
       "0  A39HTATAQ9V7YF  0205616461     5.0  1369699200\n",
       "1  A3JM6GV9MNOF9X  0558925278     3.0  1355443200\n",
       "2  A1Z513UWSAAO0F  0558925278     5.0  1404691200\n",
       "3  A1WMRR494NWEWV  0733001998     4.0  1382572800\n",
       "4  A3IAAVS479H7M7  0737104473     1.0  1274227200"
      ]
     },
     "execution_count": 4,
     "metadata": {},
     "output_type": "execute_result"
    }
   ],
   "source": [
    "amazon_ratings = pd.read_csv('C:/Users/Lokesh/Desktop/Cod soft Intenship/ratings_Beauty.csv')\n",
    "amazon_ratings = amazon_ratings.dropna()\n",
    "amazon_ratings.head()"
   ]
  },
  {
   "cell_type": "code",
   "execution_count": 6,
   "id": "f667c8ca-ec56-477d-9db6-c58b68c157a1",
   "metadata": {},
   "outputs": [
    {
     "data": {
      "text/plain": [
       "(2023070, 4)"
      ]
     },
     "execution_count": 6,
     "metadata": {},
     "output_type": "execute_result"
    }
   ],
   "source": [
    "amazon_ratings.shape"
   ]
  },
  {
   "cell_type": "code",
   "execution_count": 8,
   "id": "137e94b1-4651-48cb-ad73-4229424a8b79",
   "metadata": {},
   "outputs": [
    {
     "data": {
      "text/html": [
       "<div>\n",
       "<style scoped>\n",
       "    .dataframe tbody tr th:only-of-type {\n",
       "        vertical-align: middle;\n",
       "    }\n",
       "\n",
       "    .dataframe tbody tr th {\n",
       "        vertical-align: top;\n",
       "    }\n",
       "\n",
       "    .dataframe thead th {\n",
       "        text-align: right;\n",
       "    }\n",
       "</style>\n",
       "<table border=\"1\" class=\"dataframe\">\n",
       "  <thead>\n",
       "    <tr style=\"text-align: right;\">\n",
       "      <th></th>\n",
       "      <th>Rating</th>\n",
       "    </tr>\n",
       "    <tr>\n",
       "      <th>ProductId</th>\n",
       "      <th></th>\n",
       "    </tr>\n",
       "  </thead>\n",
       "  <tbody>\n",
       "    <tr>\n",
       "      <th>B001MA0QY2</th>\n",
       "      <td>7533</td>\n",
       "    </tr>\n",
       "    <tr>\n",
       "      <th>B0009V1YR8</th>\n",
       "      <td>2869</td>\n",
       "    </tr>\n",
       "    <tr>\n",
       "      <th>B0043OYFKU</th>\n",
       "      <td>2477</td>\n",
       "    </tr>\n",
       "    <tr>\n",
       "      <th>B0000YUXI0</th>\n",
       "      <td>2143</td>\n",
       "    </tr>\n",
       "    <tr>\n",
       "      <th>B003V265QW</th>\n",
       "      <td>2088</td>\n",
       "    </tr>\n",
       "    <tr>\n",
       "      <th>B000ZMBSPE</th>\n",
       "      <td>2041</td>\n",
       "    </tr>\n",
       "    <tr>\n",
       "      <th>B003BQ6QXK</th>\n",
       "      <td>1918</td>\n",
       "    </tr>\n",
       "    <tr>\n",
       "      <th>B004OHQR1Q</th>\n",
       "      <td>1885</td>\n",
       "    </tr>\n",
       "    <tr>\n",
       "      <th>B00121UVU0</th>\n",
       "      <td>1838</td>\n",
       "    </tr>\n",
       "    <tr>\n",
       "      <th>B000FS05VG</th>\n",
       "      <td>1589</td>\n",
       "    </tr>\n",
       "  </tbody>\n",
       "</table>\n",
       "</div>"
      ],
      "text/plain": [
       "            Rating\n",
       "ProductId         \n",
       "B001MA0QY2    7533\n",
       "B0009V1YR8    2869\n",
       "B0043OYFKU    2477\n",
       "B0000YUXI0    2143\n",
       "B003V265QW    2088\n",
       "B000ZMBSPE    2041\n",
       "B003BQ6QXK    1918\n",
       "B004OHQR1Q    1885\n",
       "B00121UVU0    1838\n",
       "B000FS05VG    1589"
      ]
     },
     "execution_count": 8,
     "metadata": {},
     "output_type": "execute_result"
    }
   ],
   "source": [
    "popular_products = pd.DataFrame(amazon_ratings.groupby('ProductId')['Rating'].count())\n",
    "most_popular = popular_products.sort_values('Rating', ascending=False)\n",
    "most_popular.head(10)"
   ]
  },
  {
   "cell_type": "code",
   "execution_count": 12,
   "id": "dec9a27a-fda1-4a0e-a061-9793b67634ed",
   "metadata": {},
   "outputs": [
    {
     "data": {
      "text/plain": [
       "<Axes: xlabel='ProductId'>"
      ]
     },
     "execution_count": 12,
     "metadata": {},
     "output_type": "execute_result"
    },
    {
     "data": {
      "image/png": "[encoded data removed]",
      "text/plain": [
       "<Figure size 640x480 with 1 Axes>"
      ]
     },
     "metadata": {},
     "output_type": "display_data"
    }
   ],
   "source": [
    "most_popular.head(30).plot(kind = \"bar\")"
   ]
  },
  {
   "cell_type": "code",
   "execution_count": 14,
   "id": "bb14af2e-a96f-45f2-a208-67c841d86e11",
   "metadata": {},
   "outputs": [],
   "source": [
    "amazon_ratings1 = amazon_ratings.head(10000)"
   ]
  },
  {
   "cell_type": "code",
   "execution_count": 16,
   "id": "2e7f4fcc-f7e9-4233-bbab-e9de94369091",
   "metadata": {},
   "outputs": [
    {
     "data": {
      "text/html": [
       "<div>\n",
       "<style scoped>\n",
       "    .dataframe tbody tr th:only-of-type {\n",
       "        vertical-align: middle;\n",
       "    }\n",
       "\n",
       "    .dataframe tbody tr th {\n",
       "        vertical-align: top;\n",
       "    }\n",
       "\n",
       "    .dataframe thead th {\n",
       "        text-align: right;\n",
       "    }\n",
       "</style>\n",
       "<table border=\"1\" class=\"dataframe\">\n",
       "  <thead>\n",
       "    <tr style=\"text-align: right;\">\n",
       "      <th>ProductId</th>\n",
       "      <th>0205616461</th>\n",
       "      <th>0558925278</th>\n",
       "      <th>0733001998</th>\n",
       "      <th>0737104473</th>\n",
       "      <th>0762451459</th>\n",
       "      <th>1304139212</th>\n",
       "      <th>1304139220</th>\n",
       "      <th>130414089X</th>\n",
       "      <th>130414643X</th>\n",
       "      <th>1304146537</th>\n",
       "      <th>...</th>\n",
       "      <th>B000052YPE</th>\n",
       "      <th>B000052YPF</th>\n",
       "      <th>B000052YPG</th>\n",
       "      <th>B000052YPH</th>\n",
       "      <th>B000052YPM</th>\n",
       "      <th>B000052YPU</th>\n",
       "      <th>B000052YPV</th>\n",
       "      <th>B000052YPY</th>\n",
       "      <th>B000052YQ0</th>\n",
       "      <th>B000052YQ2</th>\n",
       "    </tr>\n",
       "    <tr>\n",
       "      <th>UserId</th>\n",
       "      <th></th>\n",
       "      <th></th>\n",
       "      <th></th>\n",
       "      <th></th>\n",
       "      <th></th>\n",
       "      <th></th>\n",
       "      <th></th>\n",
       "      <th></th>\n",
       "      <th></th>\n",
       "      <th></th>\n",
       "      <th></th>\n",
       "      <th></th>\n",
       "      <th></th>\n",
       "      <th></th>\n",
       "      <th></th>\n",
       "      <th></th>\n",
       "      <th></th>\n",
       "      <th></th>\n",
       "      <th></th>\n",
       "      <th></th>\n",
       "      <th></th>\n",
       "    </tr>\n",
       "  </thead>\n",
       "  <tbody>\n",
       "    <tr>\n",
       "      <th>A00205921JHJK5X9LNP42</th>\n",
       "      <td>0.0</td>\n",
       "      <td>0.0</td>\n",
       "      <td>0.0</td>\n",
       "      <td>0.0</td>\n",
       "      <td>0.0</td>\n",
       "      <td>0.0</td>\n",
       "      <td>0.0</td>\n",
       "      <td>0.0</td>\n",
       "      <td>0.0</td>\n",
       "      <td>0.0</td>\n",
       "      <td>...</td>\n",
       "      <td>0.0</td>\n",
       "      <td>0.0</td>\n",
       "      <td>0.0</td>\n",
       "      <td>0.0</td>\n",
       "      <td>0.0</td>\n",
       "      <td>0.0</td>\n",
       "      <td>0.0</td>\n",
       "      <td>0.0</td>\n",
       "      <td>0.0</td>\n",
       "      <td>0.0</td>\n",
       "    </tr>\n",
       "    <tr>\n",
       "      <th>A024581134CV80ZBLIZTZ</th>\n",
       "      <td>0.0</td>\n",
       "      <td>0.0</td>\n",
       "      <td>0.0</td>\n",
       "      <td>0.0</td>\n",
       "      <td>0.0</td>\n",
       "      <td>0.0</td>\n",
       "      <td>0.0</td>\n",
       "      <td>0.0</td>\n",
       "      <td>0.0</td>\n",
       "      <td>0.0</td>\n",
       "      <td>...</td>\n",
       "      <td>0.0</td>\n",
       "      <td>0.0</td>\n",
       "      <td>0.0</td>\n",
       "      <td>0.0</td>\n",
       "      <td>0.0</td>\n",
       "      <td>0.0</td>\n",
       "      <td>0.0</td>\n",
       "      <td>0.0</td>\n",
       "      <td>0.0</td>\n",
       "      <td>0.0</td>\n",
       "    </tr>\n",
       "    <tr>\n",
       "      <th>A03056581JJIOL5FSKJY7</th>\n",
       "      <td>0.0</td>\n",
       "      <td>0.0</td>\n",
       "      <td>0.0</td>\n",
       "      <td>0.0</td>\n",
       "      <td>0.0</td>\n",
       "      <td>0.0</td>\n",
       "      <td>0.0</td>\n",
       "      <td>0.0</td>\n",
       "      <td>0.0</td>\n",
       "      <td>0.0</td>\n",
       "      <td>...</td>\n",
       "      <td>0.0</td>\n",
       "      <td>0.0</td>\n",
       "      <td>0.0</td>\n",
       "      <td>0.0</td>\n",
       "      <td>0.0</td>\n",
       "      <td>0.0</td>\n",
       "      <td>0.0</td>\n",
       "      <td>0.0</td>\n",
       "      <td>0.0</td>\n",
       "      <td>0.0</td>\n",
       "    </tr>\n",
       "    <tr>\n",
       "      <th>A03099101ZRK4K607JVHH</th>\n",
       "      <td>0.0</td>\n",
       "      <td>0.0</td>\n",
       "      <td>0.0</td>\n",
       "      <td>0.0</td>\n",
       "      <td>0.0</td>\n",
       "      <td>0.0</td>\n",
       "      <td>0.0</td>\n",
       "      <td>0.0</td>\n",
       "      <td>0.0</td>\n",
       "      <td>0.0</td>\n",
       "      <td>...</td>\n",
       "      <td>0.0</td>\n",
       "      <td>0.0</td>\n",
       "      <td>0.0</td>\n",
       "      <td>0.0</td>\n",
       "      <td>0.0</td>\n",
       "      <td>0.0</td>\n",
       "      <td>0.0</td>\n",
       "      <td>0.0</td>\n",
       "      <td>0.0</td>\n",
       "      <td>0.0</td>\n",
       "    </tr>\n",
       "    <tr>\n",
       "      <th>A0505229A7NSH3FRXRR4</th>\n",
       "      <td>0.0</td>\n",
       "      <td>0.0</td>\n",
       "      <td>0.0</td>\n",
       "      <td>0.0</td>\n",
       "      <td>0.0</td>\n",
       "      <td>0.0</td>\n",
       "      <td>0.0</td>\n",
       "      <td>0.0</td>\n",
       "      <td>0.0</td>\n",
       "      <td>0.0</td>\n",
       "      <td>...</td>\n",
       "      <td>0.0</td>\n",
       "      <td>0.0</td>\n",
       "      <td>0.0</td>\n",
       "      <td>0.0</td>\n",
       "      <td>0.0</td>\n",
       "      <td>0.0</td>\n",
       "      <td>0.0</td>\n",
       "      <td>0.0</td>\n",
       "      <td>0.0</td>\n",
       "      <td>0.0</td>\n",
       "    </tr>\n",
       "  </tbody>\n",
       "</table>\n",
       "<p>5 rows × 886 columns</p>\n",
       "</div>"
      ],
      "text/plain": [
       "ProductId              0205616461  0558925278  0733001998  0737104473  \\\n",
       "UserId                                                                  \n",
       "A00205921JHJK5X9LNP42         0.0         0.0         0.0         0.0   \n",
       "A024581134CV80ZBLIZTZ         0.0         0.0         0.0         0.0   \n",
       "A03056581JJIOL5FSKJY7         0.0         0.0         0.0         0.0   \n",
       "A03099101ZRK4K607JVHH         0.0         0.0         0.0         0.0   \n",
       "A0505229A7NSH3FRXRR4          0.0         0.0         0.0         0.0   \n",
       "\n",
       "ProductId              0762451459  1304139212  1304139220  130414089X  \\\n",
       "UserId                                                                  \n",
       "A00205921JHJK5X9LNP42         0.0         0.0         0.0         0.0   \n",
       "A024581134CV80ZBLIZTZ         0.0         0.0         0.0         0.0   \n",
       "A03056581JJIOL5FSKJY7         0.0         0.0         0.0         0.0   \n",
       "A03099101ZRK4K607JVHH         0.0         0.0         0.0         0.0   \n",
       "A0505229A7NSH3FRXRR4          0.0         0.0         0.0         0.0   \n",
       "\n",
       "ProductId              130414643X  1304146537  ...  B000052YPE  B000052YPF  \\\n",
       "UserId                                         ...                           \n",
       "A00205921JHJK5X9LNP42         0.0         0.0  ...         0.0         0.0   \n",
       "A024581134CV80ZBLIZTZ         0.0         0.0  ...         0.0         0.0   \n",
       "A03056581JJIOL5FSKJY7         0.0         0.0  ...         0.0         0.0   \n",
       "A03099101ZRK4K607JVHH         0.0         0.0  ...         0.0         0.0   \n",
       "A0505229A7NSH3FRXRR4          0.0         0.0  ...         0.0         0.0   \n",
       "\n",
       "ProductId              B000052YPG  B000052YPH  B000052YPM  B000052YPU  \\\n",
       "UserId                                                                  \n",
       "A00205921JHJK5X9LNP42         0.0         0.0         0.0         0.0   \n",
       "A024581134CV80ZBLIZTZ         0.0         0.0         0.0         0.0   \n",
       "A03056581JJIOL5FSKJY7         0.0         0.0         0.0         0.0   \n",
       "A03099101ZRK4K607JVHH         0.0         0.0         0.0         0.0   \n",
       "A0505229A7NSH3FRXRR4          0.0         0.0         0.0         0.0   \n",
       "\n",
       "ProductId              B000052YPV  B000052YPY  B000052YQ0  B000052YQ2  \n",
       "UserId                                                                 \n",
       "A00205921JHJK5X9LNP42         0.0         0.0         0.0         0.0  \n",
       "A024581134CV80ZBLIZTZ         0.0         0.0         0.0         0.0  \n",
       "A03056581JJIOL5FSKJY7         0.0         0.0         0.0         0.0  \n",
       "A03099101ZRK4K607JVHH         0.0         0.0         0.0         0.0  \n",
       "A0505229A7NSH3FRXRR4          0.0         0.0         0.0         0.0  \n",
       "\n",
       "[5 rows x 886 columns]"
      ]
     },
     "execution_count": 16,
     "metadata": {},
     "output_type": "execute_result"
    }
   ],
   "source": [
    "ratings_utility_matrix = amazon_ratings1.pivot_table(values='Rating', index='UserId', columns='ProductId', fill_value=0)\n",
    "ratings_utility_matrix.head()"
   ]
  },
  {
   "cell_type": "code",
   "execution_count": 18,
   "id": "d343bc0e-c2ee-4a22-8e2a-5c0da7e7f452",
   "metadata": {},
   "outputs": [
    {
     "data": {
      "text/plain": [
       "(9697, 886)"
      ]
     },
     "execution_count": 18,
     "metadata": {},
     "output_type": "execute_result"
    }
   ],
   "source": [
    "ratings_utility_matrix.shape"
   ]
  },
  {
   "cell_type": "code",
   "execution_count": 20,
   "id": "98ebdac1-451c-47de-b9bb-d9a03d6d99d8",
   "metadata": {},
   "outputs": [
    {
     "data": {
      "text/html": [
       "<div>\n",
       "<style scoped>\n",
       "    .dataframe tbody tr th:only-of-type {\n",
       "        vertical-align: middle;\n",
       "    }\n",
       "\n",
       "    .dataframe tbody tr th {\n",
       "        vertical-align: top;\n",
       "    }\n",
       "\n",
       "    .dataframe thead th {\n",
       "        text-align: right;\n",
       "    }\n",
       "</style>\n",
       "<table border=\"1\" class=\"dataframe\">\n",
       "  <thead>\n",
       "    <tr style=\"text-align: right;\">\n",
       "      <th>UserId</th>\n",
       "      <th>A00205921JHJK5X9LNP42</th>\n",
       "      <th>A024581134CV80ZBLIZTZ</th>\n",
       "      <th>A03056581JJIOL5FSKJY7</th>\n",
       "      <th>A03099101ZRK4K607JVHH</th>\n",
       "      <th>A0505229A7NSH3FRXRR4</th>\n",
       "      <th>A05492663T95KW63BR75K</th>\n",
       "      <th>A059547920Q3LZVFHLPI3</th>\n",
       "      <th>A07410232KYRFR25CIUGJ</th>\n",
       "      <th>A082796624UNM47DSAI6K</th>\n",
       "      <th>A0864963DOAY7LXGS5I6</th>\n",
       "      <th>...</th>\n",
       "      <th>AZW1HXXYAC15B</th>\n",
       "      <th>AZWRTJPN7NXT</th>\n",
       "      <th>AZWTXHXZXFAYP</th>\n",
       "      <th>AZYQEFB9Y5N22</th>\n",
       "      <th>AZZHB6U54UDYW</th>\n",
       "      <th>AZZHJZP4GQPPZ</th>\n",
       "      <th>AZZNK89PXD006</th>\n",
       "      <th>AZZOFVMQC0BJG</th>\n",
       "      <th>AZZQXL8VDCFTV</th>\n",
       "      <th>AZZTJQ7CQZUD8</th>\n",
       "    </tr>\n",
       "    <tr>\n",
       "      <th>ProductId</th>\n",
       "      <th></th>\n",
       "      <th></th>\n",
       "      <th></th>\n",
       "      <th></th>\n",
       "      <th></th>\n",
       "      <th></th>\n",
       "      <th></th>\n",
       "      <th></th>\n",
       "      <th></th>\n",
       "      <th></th>\n",
       "      <th></th>\n",
       "      <th></th>\n",
       "      <th></th>\n",
       "      <th></th>\n",
       "      <th></th>\n",
       "      <th></th>\n",
       "      <th></th>\n",
       "      <th></th>\n",
       "      <th></th>\n",
       "      <th></th>\n",
       "      <th></th>\n",
       "    </tr>\n",
       "  </thead>\n",
       "  <tbody>\n",
       "    <tr>\n",
       "      <th>0205616461</th>\n",
       "      <td>0.0</td>\n",
       "      <td>0.0</td>\n",
       "      <td>0.0</td>\n",
       "      <td>0.0</td>\n",
       "      <td>0.0</td>\n",
       "      <td>0.0</td>\n",
       "      <td>0.0</td>\n",
       "      <td>0.0</td>\n",
       "      <td>0.0</td>\n",
       "      <td>0.0</td>\n",
       "      <td>...</td>\n",
       "      <td>0.0</td>\n",
       "      <td>0.0</td>\n",
       "      <td>0.0</td>\n",
       "      <td>0.0</td>\n",
       "      <td>0.0</td>\n",
       "      <td>0.0</td>\n",
       "      <td>0.0</td>\n",
       "      <td>0.0</td>\n",
       "      <td>0.0</td>\n",
       "      <td>0.0</td>\n",
       "    </tr>\n",
       "    <tr>\n",
       "      <th>0558925278</th>\n",
       "      <td>0.0</td>\n",
       "      <td>0.0</td>\n",
       "      <td>0.0</td>\n",
       "      <td>0.0</td>\n",
       "      <td>0.0</td>\n",
       "      <td>0.0</td>\n",
       "      <td>0.0</td>\n",
       "      <td>0.0</td>\n",
       "      <td>0.0</td>\n",
       "      <td>0.0</td>\n",
       "      <td>...</td>\n",
       "      <td>0.0</td>\n",
       "      <td>0.0</td>\n",
       "      <td>0.0</td>\n",
       "      <td>0.0</td>\n",
       "      <td>0.0</td>\n",
       "      <td>0.0</td>\n",
       "      <td>0.0</td>\n",
       "      <td>0.0</td>\n",
       "      <td>0.0</td>\n",
       "      <td>0.0</td>\n",
       "    </tr>\n",
       "    <tr>\n",
       "      <th>0733001998</th>\n",
       "      <td>0.0</td>\n",
       "      <td>0.0</td>\n",
       "      <td>0.0</td>\n",
       "      <td>0.0</td>\n",
       "      <td>0.0</td>\n",
       "      <td>0.0</td>\n",
       "      <td>0.0</td>\n",
       "      <td>0.0</td>\n",
       "      <td>0.0</td>\n",
       "      <td>0.0</td>\n",
       "      <td>...</td>\n",
       "      <td>0.0</td>\n",
       "      <td>0.0</td>\n",
       "      <td>0.0</td>\n",
       "      <td>0.0</td>\n",
       "      <td>0.0</td>\n",
       "      <td>0.0</td>\n",
       "      <td>0.0</td>\n",
       "      <td>0.0</td>\n",
       "      <td>0.0</td>\n",
       "      <td>0.0</td>\n",
       "    </tr>\n",
       "    <tr>\n",
       "      <th>0737104473</th>\n",
       "      <td>0.0</td>\n",
       "      <td>0.0</td>\n",
       "      <td>0.0</td>\n",
       "      <td>0.0</td>\n",
       "      <td>0.0</td>\n",
       "      <td>0.0</td>\n",
       "      <td>0.0</td>\n",
       "      <td>0.0</td>\n",
       "      <td>0.0</td>\n",
       "      <td>0.0</td>\n",
       "      <td>...</td>\n",
       "      <td>0.0</td>\n",
       "      <td>0.0</td>\n",
       "      <td>0.0</td>\n",
       "      <td>0.0</td>\n",
       "      <td>0.0</td>\n",
       "      <td>0.0</td>\n",
       "      <td>0.0</td>\n",
       "      <td>0.0</td>\n",
       "      <td>0.0</td>\n",
       "      <td>0.0</td>\n",
       "    </tr>\n",
       "    <tr>\n",
       "      <th>0762451459</th>\n",
       "      <td>0.0</td>\n",
       "      <td>0.0</td>\n",
       "      <td>0.0</td>\n",
       "      <td>0.0</td>\n",
       "      <td>0.0</td>\n",
       "      <td>0.0</td>\n",
       "      <td>0.0</td>\n",
       "      <td>0.0</td>\n",
       "      <td>0.0</td>\n",
       "      <td>0.0</td>\n",
       "      <td>...</td>\n",
       "      <td>0.0</td>\n",
       "      <td>0.0</td>\n",
       "      <td>0.0</td>\n",
       "      <td>0.0</td>\n",
       "      <td>0.0</td>\n",
       "      <td>0.0</td>\n",
       "      <td>0.0</td>\n",
       "      <td>0.0</td>\n",
       "      <td>0.0</td>\n",
       "      <td>0.0</td>\n",
       "    </tr>\n",
       "  </tbody>\n",
       "</table>\n",
       "<p>5 rows × 9697 columns</p>\n",
       "</div>"
      ],
      "text/plain": [
       "UserId      A00205921JHJK5X9LNP42  A024581134CV80ZBLIZTZ  \\\n",
       "ProductId                                                  \n",
       "0205616461                    0.0                    0.0   \n",
       "0558925278                    0.0                    0.0   \n",
       "0733001998                    0.0                    0.0   \n",
       "0737104473                    0.0                    0.0   \n",
       "0762451459                    0.0                    0.0   \n",
       "\n",
       "UserId      A03056581JJIOL5FSKJY7  A03099101ZRK4K607JVHH  \\\n",
       "ProductId                                                  \n",
       "0205616461                    0.0                    0.0   \n",
       "0558925278                    0.0                    0.0   \n",
       "0733001998                    0.0                    0.0   \n",
       "0737104473                    0.0                    0.0   \n",
       "0762451459                    0.0                    0.0   \n",
       "\n",
       "UserId      A0505229A7NSH3FRXRR4  A05492663T95KW63BR75K  \\\n",
       "ProductId                                                 \n",
       "0205616461                   0.0                    0.0   \n",
       "0558925278                   0.0                    0.0   \n",
       "0733001998                   0.0                    0.0   \n",
       "0737104473                   0.0                    0.0   \n",
       "0762451459                   0.0                    0.0   \n",
       "\n",
       "UserId      A059547920Q3LZVFHLPI3  A07410232KYRFR25CIUGJ  \\\n",
       "ProductId                                                  \n",
       "0205616461                    0.0                    0.0   \n",
       "0558925278                    0.0                    0.0   \n",
       "0733001998                    0.0                    0.0   \n",
       "0737104473                    0.0                    0.0   \n",
       "0762451459                    0.0                    0.0   \n",
       "\n",
       "UserId      A082796624UNM47DSAI6K  A0864963DOAY7LXGS5I6  ...  AZW1HXXYAC15B  \\\n",
       "ProductId                                                ...                  \n",
       "0205616461                    0.0                   0.0  ...            0.0   \n",
       "0558925278                    0.0                   0.0  ...            0.0   \n",
       "0733001998                    0.0                   0.0  ...            0.0   \n",
       "0737104473                    0.0                   0.0  ...            0.0   \n",
       "0762451459                    0.0                   0.0  ...            0.0   \n",
       "\n",
       "UserId      AZWRTJPN7NXT  AZWTXHXZXFAYP  AZYQEFB9Y5N22  AZZHB6U54UDYW  \\\n",
       "ProductId                                                               \n",
       "0205616461           0.0            0.0            0.0            0.0   \n",
       "0558925278           0.0            0.0            0.0            0.0   \n",
       "0733001998           0.0            0.0            0.0            0.0   \n",
       "0737104473           0.0            0.0            0.0            0.0   \n",
       "0762451459           0.0            0.0            0.0            0.0   \n",
       "\n",
       "UserId      AZZHJZP4GQPPZ  AZZNK89PXD006  AZZOFVMQC0BJG  AZZQXL8VDCFTV  \\\n",
       "ProductId                                                                \n",
       "0205616461            0.0            0.0            0.0            0.0   \n",
       "0558925278            0.0            0.0            0.0            0.0   \n",
       "0733001998            0.0            0.0            0.0            0.0   \n",
       "0737104473            0.0            0.0            0.0            0.0   \n",
       "0762451459            0.0            0.0            0.0            0.0   \n",
       "\n",
       "UserId      AZZTJQ7CQZUD8  \n",
       "ProductId                  \n",
       "0205616461            0.0  \n",
       "0558925278            0.0  \n",
       "0733001998            0.0  \n",
       "0737104473            0.0  \n",
       "0762451459            0.0  \n",
       "\n",
       "[5 rows x 9697 columns]"
      ]
     },
     "execution_count": 20,
     "metadata": {},
     "output_type": "execute_result"
    }
   ],
   "source": [
    "X = ratings_utility_matrix.T\n",
    "X.head()"
   ]
  },
  {
   "cell_type": "code",
   "execution_count": 22,
   "id": "e27571ab-8678-4b50-bfda-c3ce43f284c2",
   "metadata": {},
   "outputs": [
    {
     "data": {
      "text/plain": [
       "(886, 9697)"
      ]
     },
     "execution_count": 22,
     "metadata": {},
     "output_type": "execute_result"
    }
   ],
   "source": [
    "X.shape"
   ]
  },
  {
   "cell_type": "code",
   "execution_count": 24,
   "id": "06c3ddd3-aa68-4c7c-addd-14befc666f13",
   "metadata": {},
   "outputs": [],
   "source": [
    "X1 = X"
   ]
  },
  {
   "cell_type": "code",
   "execution_count": 26,
   "id": "02ec70c3-ffaa-44a5-846a-11c66b6c62e8",
   "metadata": {},
   "outputs": [
    {
     "data": {
      "text/plain": [
       "(886, 10)"
      ]
     },
     "execution_count": 26,
     "metadata": {},
     "output_type": "execute_result"
    }
   ],
   "source": [
    "SVD = TruncatedSVD(n_components=10)\n",
    "decomposed_matrix = SVD.fit_transform(X)\n",
    "decomposed_matrix.shape"
   ]
  },
  {
   "cell_type": "code",
   "execution_count": 28,
   "id": "84b1276e-487a-4019-b6c8-d4428ce10aac",
   "metadata": {},
   "outputs": [
    {
     "data": {
      "text/plain": [
       "(886, 886)"
      ]
     },
     "execution_count": 28,
     "metadata": {},
     "output_type": "execute_result"
    }
   ],
   "source": [
    "correlation_matrix = np.corrcoef(decomposed_matrix)\n",
    "correlation_matrix.shape"
   ]
  },
  {
   "cell_type": "code",
   "execution_count": 30,
   "id": "7164c23b-3b18-4d4f-ab3d-8646bf3157d2",
   "metadata": {},
   "outputs": [
    {
     "data": {
      "text/plain": [
       "'6117036094'"
      ]
     },
     "execution_count": 30,
     "metadata": {},
     "output_type": "execute_result"
    }
   ],
   "source": [
    "X.index[99]"
   ]
  },
  {
   "cell_type": "code",
   "execution_count": 32,
   "id": "1da7ab6f-ec24-4f53-83cd-5228300106ab",
   "metadata": {},
   "outputs": [
    {
     "data": {
      "text/plain": [
       "99"
      ]
     },
     "execution_count": 32,
     "metadata": {},
     "output_type": "execute_result"
    }
   ],
   "source": [
    "i = \"6117036094\"\n",
    "\n",
    "product_names = list(X.index)\n",
    "product_ID = product_names.index(i)\n",
    "product_ID"
   ]
  },
  {
   "cell_type": "code",
   "execution_count": 34,
   "id": "2cf0c3f2-0c6f-4fce-9f2f-45b872552d7e",
   "metadata": {},
   "outputs": [
    {
     "data": {
      "text/plain": [
       "(886,)"
      ]
     },
     "execution_count": 34,
     "metadata": {},
     "output_type": "execute_result"
    }
   ],
   "source": [
    "correlation_product_ID = correlation_matrix[product_ID]\n",
    "correlation_product_ID.shape"
   ]
  },
  {
   "cell_type": "code",
   "execution_count": 36,
   "id": "c307be2d-075b-4514-b033-bcbdd38b792f",
   "metadata": {},
   "outputs": [
    {
     "data": {
      "text/plain": [
       "['9788080901',\n",
       " '9790770995',\n",
       " '9790776489',\n",
       " '9790792190',\n",
       " '9790796684',\n",
       " 'B000052YMF']"
      ]
     },
     "execution_count": 36,
     "metadata": {},
     "output_type": "execute_result"
    }
   ],
   "source": [
    "Recommend = list(X.index[correlation_product_ID > 0.90])\n",
    "\n",
    "# Removes the item already bought by the customer\n",
    "Recommend.remove(i) \n",
    "\n",
    "Recommend[0:9]"
   ]
  },
  {
   "cell_type": "code",
   "execution_count": 38,
   "id": "81696b61-de49-404b-9608-597268d7380c",
   "metadata": {},
   "outputs": [],
   "source": [
    "from sklearn.feature_extraction.text import TfidfVectorizer, CountVectorizer\n",
    "from sklearn.neighbors import NearestNeighbors\n",
    "from sklearn.cluster import KMeans\n",
    "from sklearn.metrics import adjusted_rand_score"
   ]
  },
  {
   "cell_type": "code",
   "execution_count": 42,
   "id": "c5ded673-6a83-4268-93ca-43a7b6b613d6",
   "metadata": {},
   "outputs": [
    {
     "data": {
      "text/plain": [
       "(124428, 2)"
      ]
     },
     "execution_count": 42,
     "metadata": {},
     "output_type": "execute_result"
    }
   ],
   "source": [
    "product_descriptions = pd.read_csv('C:/Users/Lokesh/Desktop/Cod soft Intenship/product_descriptions.csv')\n",
    "product_descriptions.shape"
   ]
  },
  {
   "cell_type": "code",
   "execution_count": 44,
   "id": "ca5f9196-f8a8-44f5-a14a-d45dc66cee48",
   "metadata": {},
   "outputs": [
    {
     "data": {
      "text/html": [
       "<div>\n",
       "<style scoped>\n",
       "    .dataframe tbody tr th:only-of-type {\n",
       "        vertical-align: middle;\n",
       "    }\n",
       "\n",
       "    .dataframe tbody tr th {\n",
       "        vertical-align: top;\n",
       "    }\n",
       "\n",
       "    .dataframe thead th {\n",
       "        text-align: right;\n",
       "    }\n",
       "</style>\n",
       "<table border=\"1\" class=\"dataframe\">\n",
       "  <thead>\n",
       "    <tr style=\"text-align: right;\">\n",
       "      <th></th>\n",
       "      <th>product_uid</th>\n",
       "      <th>product_description</th>\n",
       "    </tr>\n",
       "  </thead>\n",
       "  <tbody>\n",
       "    <tr>\n",
       "      <th>0</th>\n",
       "      <td>100001</td>\n",
       "      <td>Not only do angles make joints stronger, they ...</td>\n",
       "    </tr>\n",
       "    <tr>\n",
       "      <th>1</th>\n",
       "      <td>100002</td>\n",
       "      <td>BEHR Premium Textured DECKOVER is an innovativ...</td>\n",
       "    </tr>\n",
       "    <tr>\n",
       "      <th>2</th>\n",
       "      <td>100003</td>\n",
       "      <td>Classic architecture meets contemporary design...</td>\n",
       "    </tr>\n",
       "    <tr>\n",
       "      <th>3</th>\n",
       "      <td>100004</td>\n",
       "      <td>The Grape Solar 265-Watt Polycrystalline PV So...</td>\n",
       "    </tr>\n",
       "    <tr>\n",
       "      <th>4</th>\n",
       "      <td>100005</td>\n",
       "      <td>Update your bathroom with the Delta Vero Singl...</td>\n",
       "    </tr>\n",
       "  </tbody>\n",
       "</table>\n",
       "</div>"
      ],
      "text/plain": [
       "   product_uid                                product_description\n",
       "0       100001  Not only do angles make joints stronger, they ...\n",
       "1       100002  BEHR Premium Textured DECKOVER is an innovativ...\n",
       "2       100003  Classic architecture meets contemporary design...\n",
       "3       100004  The Grape Solar 265-Watt Polycrystalline PV So...\n",
       "4       100005  Update your bathroom with the Delta Vero Singl..."
      ]
     },
     "execution_count": 44,
     "metadata": {},
     "output_type": "execute_result"
    }
   ],
   "source": [
    "product_descriptions = product_descriptions.dropna()\n",
    "product_descriptions.shape\n",
    "product_descriptions.head()"
   ]
  },
  {
   "cell_type": "code",
   "execution_count": 46,
   "id": "31ef16ff-9bfe-4387-baad-9c172388afe5",
   "metadata": {},
   "outputs": [
    {
     "data": {
      "text/plain": [
       "0    Not only do angles make joints stronger, they ...\n",
       "1    BEHR Premium Textured DECKOVER is an innovativ...\n",
       "2    Classic architecture meets contemporary design...\n",
       "3    The Grape Solar 265-Watt Polycrystalline PV So...\n",
       "4    Update your bathroom with the Delta Vero Singl...\n",
       "5    Achieving delicious results is almost effortle...\n",
       "6    The Quantum Adjustable 2-Light LED Black Emerg...\n",
       "7    The Teks #10 x 1-1/2 in. Zinc-Plated Steel Was...\n",
       "8    Get the House of Fara 3/4 in. x 3 in. x 8 ft. ...\n",
       "9    Valley View Industries Metal Stakes (4-Pack) a...\n",
       "Name: product_description, dtype: object"
      ]
     },
     "execution_count": 46,
     "metadata": {},
     "output_type": "execute_result"
    }
   ],
   "source": [
    "product_descriptions1 = product_descriptions.head(500)\n",
    "# product_descriptions1.iloc[:,1]\n",
    "\n",
    "product_descriptions1[\"product_description\"].head(10)"
   ]
  },
  {
   "cell_type": "code",
   "execution_count": 48,
   "id": "204e5552-df80-40cf-bd2b-0dc829b327ac",
   "metadata": {},
   "outputs": [
    {
     "data": {
      "text/plain": [
       "<500x8932 sparse matrix of type '<class 'numpy.float64'>'\n",
       "\twith 34817 stored elements in Compressed Sparse Row format>"
      ]
     },
     "execution_count": 48,
     "metadata": {},
     "output_type": "execute_result"
    }
   ],
   "source": [
    "vectorizer = TfidfVectorizer(stop_words='english')\n",
    "X1 = vectorizer.fit_transform(product_descriptions1[\"product_description\"])\n",
    "X1"
   ]
  },
  {
   "cell_type": "code",
   "execution_count": 50,
   "id": "67e03d47-407c-4c25-bb67-25293c89f2b1",
   "metadata": {},
   "outputs": [
    {
     "data": {
      "image/png": "[encoded data removed]",
      "text/plain": [
       "<Figure size 640x480 with 1 Axes>"
      ]
     },
     "metadata": {},
     "output_type": "display_data"
    }
   ],
   "source": [
    "X=X1\n",
    "\n",
    "kmeans = KMeans(n_clusters = 10, init = 'k-means++')\n",
    "y_kmeans = kmeans.fit_predict(X)\n",
    "plt.plot(y_kmeans, \".\")\n",
    "plt.show()"
   ]
  },
  {
   "cell_type": "code",
   "execution_count": 52,
   "id": "75bfd068-23e5-4c89-9b75-aa87977f66ba",
   "metadata": {},
   "outputs": [],
   "source": [
    "def print_cluster(i):\n",
    "    print(\"Cluster %d:\" % i),\n",
    "    for ind in order_centroids[i, :10]:\n",
    "        print(' %s' % terms[ind]),\n",
    "    print"
   ]
  },
  {
   "cell_type": "code",
   "execution_count": 56,
   "id": "69a5d9bc-befd-450e-8341-c145fd0e7eb1",
   "metadata": {},
   "outputs": [
    {
     "name": "stdout",
     "output_type": "stream",
     "text": [
      "Top terms per cluster:\n",
      "Cluster 0:\n",
      " door\n",
      " concrete\n",
      " garage\n",
      " seal\n",
      " use\n",
      " provides\n",
      " water\n",
      " easy\n",
      " metal\n",
      " design\n",
      "Cluster 1:\n",
      " ft\n",
      " frame\n",
      " steel\n",
      " patio\n",
      " used\n",
      " easy\n",
      " resistant\n",
      " fabric\n",
      " paint\n",
      " set\n",
      "Cluster 2:\n",
      " power\n",
      " volt\n",
      " watt\n",
      " voltage\n",
      " inverter\n",
      " amp\n",
      " low\n",
      " 50\n",
      " plan\n",
      " battery\n",
      "Cluster 3:\n",
      " aluminum\n",
      " ladder\n",
      " design\n",
      " attic\n",
      " easy\n",
      " use\n",
      " access\n",
      " fence\n",
      " door\n",
      " installation\n",
      "Cluster 4:\n",
      " water\n",
      " heater\n",
      " tank\n",
      " easy\n",
      " gal\n",
      " toilet\n",
      " flush\n",
      " valve\n",
      " warranty\n",
      " year\n",
      "Cluster 5:\n",
      " light\n",
      " tool\n",
      " led\n",
      " grip\n",
      " free\n",
      " volt\n",
      " lithium\n",
      " power\n",
      " max\n",
      " work\n",
      "Cluster 6:\n",
      " wood\n",
      " natural\n",
      " post\n",
      " bamboo\n",
      " outdoor\n",
      " window\n",
      " rug\n",
      " size\n",
      " vary\n",
      " product\n",
      "Cluster 7:\n",
      " cooking\n",
      " oven\n",
      " cycle\n",
      " cu\n",
      " wash\n",
      " heat\n",
      " high\n",
      " capacity\n",
      " dryer\n",
      " easy\n",
      "Cluster 8:\n",
      " air\n",
      " fan\n",
      " light\n",
      " control\n",
      " cooling\n",
      " home\n",
      " use\n",
      " help\n",
      " finish\n",
      " speed\n",
      "Cluster 9:\n",
      " storage\n",
      " shelves\n",
      " shelf\n",
      " lbs\n",
      " adjustable\n",
      " unit\n",
      " wall\n",
      " steel\n",
      " finish\n",
      " capacity\n"
     ]
    }
   ],
   "source": [
    "true_k = 10\n",
    "\n",
    "model = KMeans(n_clusters=true_k, init='k-means++', max_iter=100, n_init=1)\n",
    "model.fit(X1)\n",
    "\n",
    "print(\"Top terms per cluster:\")\n",
    "order_centroids = model.cluster_centers_.argsort()[:, ::-1]\n",
    "terms = vectorizer.get_feature_names_out()  # Updated method\n",
    "for i in range(true_k):\n",
    "    print_cluster(i)"
   ]
  },
  {
   "cell_type": "code",
   "execution_count": 58,
   "id": "533b606a-0752-4485-b52e-a386b7a1c6c2",
   "metadata": {},
   "outputs": [],
   "source": [
    "def show_recommendations(product):\n",
    "    #print(\"Cluster ID:\")\n",
    "    Y = vectorizer.transform([product])\n",
    "    prediction = model.predict(Y)\n",
    "    #print(prediction)\n",
    "    print_cluster(prediction[0])"
   ]
  },
  {
   "cell_type": "code",
   "execution_count": 60,
   "id": "8566c005-e229-4ced-8da3-e4d72ba75afd",
   "metadata": {},
   "outputs": [
    {
     "name": "stdout",
     "output_type": "stream",
     "text": [
      "Cluster 5:\n",
      " light\n",
      " tool\n",
      " led\n",
      " grip\n",
      " free\n",
      " volt\n",
      " lithium\n",
      " power\n",
      " max\n",
      " work\n"
     ]
    }
   ],
   "source": [
    "show_recommendations(\"cutting tool\")"
   ]
  },
  {
   "cell_type": "code",
   "execution_count": 62,
   "id": "c3a729e4-699e-413a-a0ef-bccb9f2a26de",
   "metadata": {},
   "outputs": [
    {
     "name": "stdout",
     "output_type": "stream",
     "text": [
      "Cluster 1:\n",
      " ft\n",
      " frame\n",
      " steel\n",
      " patio\n",
      " used\n",
      " easy\n",
      " resistant\n",
      " fabric\n",
      " paint\n",
      " set\n"
     ]
    }
   ],
   "source": [
    "show_recommendations(\"spray paint\")"
   ]
  },
  {
   "cell_type": "code",
   "execution_count": 64,
   "id": "4a38e2ec-aef9-4165-a870-cde5c3cb89f1",
   "metadata": {},
   "outputs": [
    {
     "name": "stdout",
     "output_type": "stream",
     "text": [
      "Cluster 1:\n",
      " ft\n",
      " frame\n",
      " steel\n",
      " patio\n",
      " used\n",
      " easy\n",
      " resistant\n",
      " fabric\n",
      " paint\n",
      " set\n"
     ]
    }
   ],
   "source": [
    "show_recommendations(\"steel drill\")"
   ]
  },
  {
   "cell_type": "code",
   "execution_count": 66,
   "id": "aa7819e2-87de-49a1-a220-300a02af318b",
   "metadata": {},
   "outputs": [
    {
     "name": "stdout",
     "output_type": "stream",
     "text": [
      "Cluster 4:\n",
      " water\n",
      " heater\n",
      " tank\n",
      " easy\n",
      " gal\n",
      " toilet\n",
      " flush\n",
      " valve\n",
      " warranty\n",
      " year\n"
     ]
    }
   ],
   "source": [
    "show_recommendations(\"water\")"
   ]
  },
  {
   "cell_type": "code",
   "execution_count": null,
   "id": "441d7da4-db32-4877-9daa-5802105f8895",
   "metadata": {},
   "outputs": [],
   "source": []
  }
 ],
 "metadata": {
  "kernelspec": {
   "display_name": "Python 3 (ipykernel)",
   "language": "python",
   "name": "python3"
  },
  "language_info": {
   "codemirror_mode": {
    "name": "ipython",
    "version": 3
   },
   "file_extension": ".py",
   "mimetype": "text/x-python",
   "name": "python",
   "nbconvert_exporter": "python",
   "pygments_lexer": "ipython3",
   "version": "3.12.4"
  }
 },
 "nbformat": 4,
 "nbformat_minor": 5
}
